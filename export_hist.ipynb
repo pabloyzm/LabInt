{
 "cells": [
  {
   "cell_type": "code",
   "execution_count": 1,
   "metadata": {},
   "outputs": [],
   "source": [
    "import pandas as pd\n",
    "import numpy as np\n",
    "import matplotlib.pyplot as plt\n",
    "import yaml\n",
    "from src.Metrics.metrics_utils import get_hist_from_str, plot_10,evaluate_all_features,plot_histogram,similarity_metric, query_image, evaluate_query\n",
    "from src.SIFT.SIFT_gen_and_utils import SIFTFeatures\n",
    "from tqdm import notebook\n",
    "config = yaml.load(open('/root/labint/LabInt/LabInt/config/full_images_to_hist_config.yaml', 'r'), Loader=yaml.FullLoader)\n",
    "n_bins = config['clusterization_config']['n_clusters']"
   ]
  },
  {
   "cell_type": "code",
   "execution_count": 2,
   "metadata": {},
   "outputs": [
    {
     "data": {
      "text/html": [
       "<div>\n",
       "<style scoped>\n",
       "    .dataframe tbody tr th:only-of-type {\n",
       "        vertical-align: middle;\n",
       "    }\n",
       "\n",
       "    .dataframe tbody tr th {\n",
       "        vertical-align: top;\n",
       "    }\n",
       "\n",
       "    .dataframe thead th {\n",
       "        text-align: right;\n",
       "    }\n",
       "</style>\n",
       "<table border=\"1\" class=\"dataframe\">\n",
       "  <thead>\n",
       "    <tr style=\"text-align: right;\">\n",
       "      <th></th>\n",
       "      <th>image_name</th>\n",
       "      <th>features_histogram</th>\n",
       "      <th>features_CNN</th>\n",
       "      <th>class</th>\n",
       "    </tr>\n",
       "  </thead>\n",
       "  <tbody>\n",
       "    <tr>\n",
       "      <th>0</th>\n",
       "      <td>0_430b273cb7915d83.jpg</td>\n",
       "      <td>[0.00891516, 0.01386802, 0.00924535, 0.0089151...</td>\n",
       "      <td>[0.029053612, 0.005296911, 0.04431615, 8.36852...</td>\n",
       "      <td>0_type1</td>\n",
       "    </tr>\n",
       "    <tr>\n",
       "      <th>1</th>\n",
       "      <td>0_8c54ccf63a12ee74.jpg</td>\n",
       "      <td>[0.01114108, 0.00788027, 0.00652161, 0.0067933...</td>\n",
       "      <td>[0.02466255, 0.000653582, 0.028425196, 0.00015...</td>\n",
       "      <td>0_type1</td>\n",
       "    </tr>\n",
       "    <tr>\n",
       "      <th>2</th>\n",
       "      <td>0_c8f198d7da690cc8.jpg</td>\n",
       "      <td>[0.00954264, 0.0126586, 0.0085689, 0.00837415,...</td>\n",
       "      <td>[0.026438147, 0.0029341085, 0.03634543, -0.002...</td>\n",
       "      <td>0_type1</td>\n",
       "    </tr>\n",
       "    <tr>\n",
       "      <th>3</th>\n",
       "      <td>100001.jpg</td>\n",
       "      <td>[0.00292408, 0.00988136, 0.0033274, 0.00846974...</td>\n",
       "      <td>[0.029428592, 0.00525929, 0.044686396, 0.00075...</td>\n",
       "      <td>0_type2</td>\n",
       "    </tr>\n",
       "    <tr>\n",
       "      <th>4</th>\n",
       "      <td>1000_nm1265067_rm1814797056_1975-7-6_2006.jpg</td>\n",
       "      <td>[0.0123984, 0.0, 0.0247968, 0.0, 0.0, 0.004132...</td>\n",
       "      <td>[0.011611224, 0.007402856, 0.045435827, -0.002...</td>\n",
       "      <td>1000_type1</td>\n",
       "    </tr>\n",
       "  </tbody>\n",
       "</table>\n",
       "</div>"
      ],
      "text/plain": [
       "                                      image_name  \\\n",
       "0                         0_430b273cb7915d83.jpg   \n",
       "1                         0_8c54ccf63a12ee74.jpg   \n",
       "2                         0_c8f198d7da690cc8.jpg   \n",
       "3                                     100001.jpg   \n",
       "4  1000_nm1265067_rm1814797056_1975-7-6_2006.jpg   \n",
       "\n",
       "                                  features_histogram  \\\n",
       "0  [0.00891516, 0.01386802, 0.00924535, 0.0089151...   \n",
       "1  [0.01114108, 0.00788027, 0.00652161, 0.0067933...   \n",
       "2  [0.00954264, 0.0126586, 0.0085689, 0.00837415,...   \n",
       "3  [0.00292408, 0.00988136, 0.0033274, 0.00846974...   \n",
       "4  [0.0123984, 0.0, 0.0247968, 0.0, 0.0, 0.004132...   \n",
       "\n",
       "                                        features_CNN       class  \n",
       "0  [0.029053612, 0.005296911, 0.04431615, 8.36852...     0_type1  \n",
       "1  [0.02466255, 0.000653582, 0.028425196, 0.00015...     0_type1  \n",
       "2  [0.026438147, 0.0029341085, 0.03634543, -0.002...     0_type1  \n",
       "3  [0.029428592, 0.00525929, 0.044686396, 0.00075...     0_type2  \n",
       "4  [0.011611224, 0.007402856, 0.045435827, -0.002...  1000_type1  "
      ]
     },
     "execution_count": 2,
     "metadata": {},
     "output_type": "execute_result"
    }
   ],
   "source": [
    "df = pd.read_csv('/root/labint/LabInt/LabInt/csv/total_histogram_CNN.csv')\n",
    "SIFT = SIFTFeatures(\"\", \"\", run=False)\n",
    "# get all images from the same class\n",
    "df[\"class\"] = df[\"image_name\"].apply(lambda x: SIFT.get_class(x))\n",
    "df[\"features_histogram\"] = df[\"features_histogram\"].apply(lambda x: get_hist_from_str(x, separator=' '))\n",
    "\n",
    "df.head()"
   ]
  },
  {
   "cell_type": "code",
   "execution_count": 3,
   "metadata": {},
   "outputs": [
    {
     "data": {
      "application/vnd.jupyter.widget-view+json": {
       "model_id": "2af91d887cff4a0a8b3582cfc3e3d67a",
       "version_major": 2,
       "version_minor": 0
      },
      "text/plain": [
       "0it [00:00, ?it/s]"
      ]
     },
     "metadata": {},
     "output_type": "display_data"
    }
   ],
   "source": [
    "#convert each row to numpyy array \n",
    "from tqdm import notebook\n",
    "for index,row in notebook.tqdm(df.iterrows()):\n",
    "    df.at[index, 'features_CNN'] = get_hist_from_str(df.at[index, 'features_CNN'], separator=',')"
   ]
  },
  {
   "cell_type": "code",
   "execution_count": 4,
   "metadata": {},
   "outputs": [
    {
     "name": "stdout",
     "output_type": "stream",
     "text": [
      "(13491, 4216)\n"
     ]
    }
   ],
   "source": [
    "df['features_fusion'] = [np.concatenate([df['features_CNN'][x], df['features_histogram'][x]]) for x in range(df.shape[0])]\n",
    "\n",
    "lda_df = np.array([df['features_fusion'][x] for x in range(0,df.shape[0])])\n",
    "print(lda_df.shape)"
   ]
  },
  {
   "cell_type": "code",
   "execution_count": 5,
   "metadata": {},
   "outputs": [
    {
     "data": {
      "text/plain": [
       "array([0.02905361, 0.00529691, 0.04431615, ..., 0.00990573, 0.00990573,\n",
       "       0.01023592], dtype=float32)"
      ]
     },
     "execution_count": 5,
     "metadata": {},
     "output_type": "execute_result"
    }
   ],
   "source": [
    "lda_df[0]"
   ]
  },
  {
   "cell_type": "code",
   "execution_count": 6,
   "metadata": {},
   "outputs": [
    {
     "name": "stdout",
     "output_type": "stream",
     "text": [
      "(13491, 4216)\n",
      "(13491,)\n",
      "(4216,)\n"
     ]
    }
   ],
   "source": [
    "from sklearn.preprocessing import LabelEncoder\n",
    "label_encoder = LabelEncoder()\n",
    "X_train = lda_df\n",
    "y_train =label_encoder.fit_transform(df['class'])\n",
    "#print(X_train)\n",
    "#print(y_train)\n",
    "print(X_train.shape)\n",
    "print(y_train.shape)#\n",
    "\n",
    "print(X_train[0].shape)\n",
    "#print(y_train[0])"
   ]
  },
  {
   "cell_type": "code",
   "execution_count": null,
   "metadata": {},
   "outputs": [],
   "source": [
    "X_train_lda = lda.transform(X_train) "
   ]
  },
  {
   "cell_type": "code",
   "execution_count": null,
   "metadata": {},
   "outputs": [],
   "source": [
    "df['features_fusion'] =   [np.array(X_train_lda[i]) for i in range(X_train_lda.shape[0])]"
   ]
  },
  {
   "cell_type": "code",
   "execution_count": null,
   "metadata": {},
   "outputs": [
    {
     "data": {
      "text/plain": [
       "0        [0.029053611680865288, 0.005296911112964153, 0...\n",
       "1        [0.024662550538778305, 0.0006535819848068058, ...\n",
       "2        [0.026438146829605103, 0.0029341084882616997, ...\n",
       "3        [0.029428591951727867, 0.005259289871901274, 0...\n",
       "4        [0.01161122415214777, 0.0074028559029102325, 0...\n",
       "                               ...                        \n",
       "13486    [0.024701157584786415, 0.0011192563688382506, ...\n",
       "13487    [0.01882963255047798, 0.0005661462782882154, 0...\n",
       "13488    [0.015856489539146423, 0.001510198344476521, 0...\n",
       "13489    [0.01761815883219242, 0.0004240881244186312, 0...\n",
       "13490    [0.016103768721222878, -0.0004710672947112471,...\n",
       "Name: features_CNN, Length: 13491, dtype: object"
      ]
     },
     "execution_count": 9,
     "metadata": {},
     "output_type": "execute_result"
    }
   ],
   "source": [
    "df['features_CNN']=[df['features_CNN'][i].tolist() for i in range(df.shape[0])]\n",
    "df['features_CNN'] "
   ]
  },
  {
   "cell_type": "code",
   "execution_count": null,
   "metadata": {},
   "outputs": [
    {
     "data": {
      "text/plain": [
       "4096"
      ]
     },
     "execution_count": 15,
     "metadata": {},
     "output_type": "execute_result"
    }
   ],
   "source": [
    "len(df['features_CNN'][0])"
   ]
  },
  {
   "cell_type": "code",
   "execution_count": null,
   "metadata": {},
   "outputs": [
    {
     "data": {
      "text/plain": [
       "0        [-2.613821145742236, 2.587963542480173, -0.439...\n",
       "1        [-2.5640103286492733, 4.1776568101211105, -0.2...\n",
       "2        [-3.9845652390666073, 3.9972214919772657, 0.33...\n",
       "3        [-2.384346915456419, 8.250267666349039, -5.056...\n",
       "4        [1.1109833935081854, -3.3930054641721537, -0.5...\n",
       "                               ...                        \n",
       "13486    [-2.7867420816539648, 0.48772546549633866, 2.3...\n",
       "13487    [-2.681220559536008, 1.113189140870911, 2.8531...\n",
       "13488    [-3.7070877487107743, 0.9821294784843366, 2.68...\n",
       "13489    [-1.230852193697406, 0.8451719463056238, 1.915...\n",
       "13490    [-2.9066294953561007, 0.4404633633725782, 1.88...\n",
       "Name: features_fusion, Length: 13491, dtype: object"
      ]
     },
     "execution_count": 10,
     "metadata": {},
     "output_type": "execute_result"
    }
   ],
   "source": [
    "df['features_fusion']=[df['features_fusion'][i].tolist() for i in range(df.shape[0])]\n",
    "df['features_fusion'] "
   ]
  },
  {
   "cell_type": "code",
   "execution_count": null,
   "metadata": {},
   "outputs": [
    {
     "data": {
      "text/plain": [
       "1698"
      ]
     },
     "execution_count": 13,
     "metadata": {},
     "output_type": "execute_result"
    }
   ],
   "source": [
    "len(df['features_fusion'][0])"
   ]
  },
  {
   "cell_type": "code",
   "execution_count": null,
   "metadata": {},
   "outputs": [],
   "source": [
    "#df.to_csv('final_histograms.csv', index=False)"
   ]
  },
  {
   "cell_type": "markdown",
   "metadata": {},
   "source": [
    "### LDA para CNN \n"
   ]
  },
  {
   "cell_type": "code",
   "execution_count": 4,
   "metadata": {},
   "outputs": [
    {
     "name": "stdout",
     "output_type": "stream",
     "text": [
      "(13491, 4096)\n"
     ]
    }
   ],
   "source": [
    " \n",
    "\n",
    "lda_df = np.array([df['features_CNN'][x] for x in range(0,df.shape[0])])\n",
    "print(lda_df.shape)"
   ]
  },
  {
   "cell_type": "code",
   "execution_count": null,
   "metadata": {},
   "outputs": [],
   "source": [
    "from sklearn.preprocessing import LabelEncoder\n",
    "label_encoder = LabelEncoder()\n",
    "X_train = lda_df\n",
    "y_train =label_encoder.fit_transform(df['class'])\n",
    "#print(X_train)\n",
    "#print(y_train)\n",
    "print(X_train.shape)\n",
    "print(y_train.shape)#\n",
    "\n",
    "print(X_train[0].shape)\n",
    "#print(y_train[0])"
   ]
  },
  {
   "cell_type": "code",
   "execution_count": null,
   "metadata": {},
   "outputs": [],
   "source": [
    "X_train_lda = lda.transform(X_train) "
   ]
  }
 ],
 "metadata": {
  "kernelspec": {
   "display_name": "labint",
   "language": "python",
   "name": "python3"
  },
  "language_info": {
   "codemirror_mode": {
    "name": "ipython",
    "version": 3
   },
   "file_extension": ".py",
   "mimetype": "text/x-python",
   "name": "python",
   "nbconvert_exporter": "python",
   "pygments_lexer": "ipython3",
   "version": "3.10.6"
  },
  "orig_nbformat": 4
 },
 "nbformat": 4,
 "nbformat_minor": 2
}
