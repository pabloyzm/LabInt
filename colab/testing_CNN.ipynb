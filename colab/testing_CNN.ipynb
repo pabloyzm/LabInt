{
 "cells": [
  {
   "cell_type": "code",
   "execution_count": null,
   "metadata": {},
   "outputs": [],
   "source": [
    "import pandas as pd\n",
    "import numpy as np\n",
    "import matplotlib.pyplot as plt\n",
    "import yaml\n",
    "\n",
    "config = yaml.load(open('../config/full_images_to_hist_config.yaml', 'r'), Loader=yaml.FullLoader)\n",
    "n_bins = config['clusterization_config']['n_clusters']"
   ]
  },
  {
   "cell_type": "code",
   "execution_count": null,
   "metadata": {},
   "outputs": [],
   "source": [
    "# evaluating ranking method\n",
    "def evaluate_query(df, image_query, measure=\"cosine\", normalized=True, feature_type = \"histogram\"):\n",
    "    # obtener la clase de la imagen\n",
    "    image_class = SIFT.get_class(image_query)\n",
    "    print(image_class)\n",
    "    # calcular similudes\n",
    "    df = query_image(df, image_query, measure=measure, feature_type = feature_type)\n",
    "    # obtener los indices de las imagenes de la misma clase\n",
    "    indexes = df[df[\"class\"] == image_class].index.values.tolist()\n",
    "    print(indexes)\n",
    "    n_rel = len(indexes) - 1\n",
    "\n",
    "    if normalized:\n",
    "        N = len(df)\n",
    "        return 1/(n_rel*N) * (sum(indexes) - (n_rel*(n_rel+1))/2)\n",
    "\n",
    "    return 1/n_rel * sum(indexes)\n",
    "\n",
    "image_example = df[\"image_name\"][0]\n",
    "evaluate_query(df, image_example, measure=\"euclidean\", normalized=True)"
   ]
  },
  {
   "cell_type": "code",
   "execution_count": null,
   "metadata": {},
   "outputs": [],
   "source": [
    "from src.CNN.CNN_utils import  CNN_method, deep_rank_model\n",
    "import tqdm\n",
    "\n",
    "import os\n",
    "from PIL import Image\n",
    "\n",
    "def launch_CNN():\n",
    "    model = deep_rank_model()\n",
    "    model.load_weights(input())\n",
    "\n",
    "    def load_single(path):\n",
    "        image = Image.open(os.path.join(path))\n",
    "        return image\n",
    "\n",
    "    CNN_method(load_single(f'/root/labint/scripts/LabInt/data/GPR1200/images/{df[\"image_name\"][0]}'), model)\n",
    "\n",
    "    def apply_cnn(image, CNN_method):\n",
    "        try:\n",
    "            return CNN_method(image, model)\n",
    "        except:\n",
    "            return np.zeros(4096)\n",
    "\n",
    "    df[\"features_CNN\"] = tqdm.tqdm(df[\"image_name\"].apply(lambda x: apply_cnn(load_single(f'/root/labint/scripts/LabInt/data/GPR1200/images/{x}'), CNN_method), model))\n",
    " "
   ]
  },
  {
   "cell_type": "code",
   "execution_count": null,
   "metadata": {},
   "outputs": [],
   "source": []
  },
  {
   "cell_type": "code",
   "execution_count": null,
   "metadata": {},
   "outputs": [],
   "source": []
  },
  {
   "cell_type": "code",
   "execution_count": null,
   "metadata": {},
   "outputs": [],
   "source": [
    "def plot_images(df_, index):\n",
    "    plt.figure(figsize=(10, 10))\n",
    "    plt.imshow(Image.open(f'{path_to_images}/{df_query[\"image_name\"][i+j]}'))\n",
    "    plt.show()\n",
    "\n",
    "fig,ax = plt.subplots(nrows=2,ncols=5,figsize=(15, 6))\n",
    "\n",
    "fig.suptitle(\"Top Matching Images\", fontsize=15)\n",
    "ax[0][0].set_title(f\"Consulta\")\n",
    "x = 0\n",
    "for j in range(0, 2):\n",
    "\n",
    "    for i in range(0,5): \n",
    "        ax[j][i].set_axis_off()\n",
    "        ax[j][i].imshow(Image.open(f'{path_to_images}/{df_query[\"image_name\"][x]}'))\n",
    "        if x > 0:\n",
    "            ax[j][i].set_title(f\"Match {x-1}\")\n",
    "        x +=1"
   ]
  },
  {
   "cell_type": "code",
   "execution_count": null,
   "metadata": {},
   "outputs": [],
   "source": [
    "def get_hist(value, separator = ','):\n",
    "    hist = str(value).strip().replace('[','').replace(']','').replace(\"\\n\",\"\").split(separator)\n",
    "    hist = [i for i in hist if i != '']\n",
    "    hist = np.array(hist, dtype=np.float32)\n",
    "    return hist"
   ]
  },
  {
   "cell_type": "code",
   "execution_count": null,
   "metadata": {},
   "outputs": [],
   "source": []
  }
 ],
 "metadata": {
  "language_info": {
   "name": "python"
  },
  "orig_nbformat": 4
 },
 "nbformat": 4,
 "nbformat_minor": 2
}
