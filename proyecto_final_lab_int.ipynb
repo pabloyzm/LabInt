{
 "cells": [
  {
   "attachments": {},
   "cell_type": "markdown",
   "metadata": {},
   "source": [
    "# Proyecto Final Área Imágenes"
   ]
  },
  {
   "attachments": {},
   "cell_type": "markdown",
   "metadata": {},
   "source": [
    "## Parte 1\n",
    "Vectores característicos"
   ]
  },
  {
   "cell_type": "code",
   "execution_count": null,
   "metadata": {},
   "outputs": [],
   "source": [
    "def classic_method():\n",
    "    pass\n",
    "\n",
    "\n",
    "def CNN_method():\n",
    "    pass\n",
    "\n",
    "def get_vector(image, extractor_type):\n",
    "    \n",
    "    if extractor_type == 'classic':\n",
    "        vector = classic_method(image)\n",
    "    else:\n",
    "        vector =CNN_method(image)\n",
    "    \n",
    "    return vector"
   ]
  }
 ],
 "metadata": {
  "language_info": {
   "name": "python"
  },
  "orig_nbformat": 4
 },
 "nbformat": 4,
 "nbformat_minor": 2
}
