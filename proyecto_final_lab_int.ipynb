{
 "cells": [
  {
   "attachments": {},
   "cell_type": "markdown",
   "metadata": {},
   "source": [
    "# Proyecto Final Área Imágenes"
   ]
  },
  {
   "cell_type": "code",
   "execution_count": null,
   "metadata": {},
   "outputs": [],
   "source": [
    "import numpy as np\n",
    "import os \n",
    "import io\n",
    "from skimage import local_binary_pattern\n"
   ]
  },
  {
   "cell_type": "code",
   "execution_count": null,
   "metadata": {},
   "outputs": [],
   "source": [
    "IMG_DATASET = []"
   ]
  },
  {
   "cell_type": "code",
   "execution_count": null,
   "metadata": {},
   "outputs": [],
   "source": [
    "def load(path):\n",
    "    \"\"\"Loads images from path\"\"\"\n",
    "    imgs = []\n",
    "    names = os.listdir(path)\n",
    "\n",
    "    for name in names: \n",
    "        image = io.imread(fname=os.path.join(path,name))\n",
    "        imgs.append(image) \n",
    "    return np.array(imgs)"
   ]
  },
  {
   "attachments": {},
   "cell_type": "markdown",
   "metadata": {},
   "source": [
    "### Parte 1\n",
    "Vectores característicos"
   ]
  },
  {
   "cell_type": "code",
   "execution_count": null,
   "metadata": {},
   "outputs": [],
   "source": [
    "def classic_method(image):\n",
    "    \"Implements LBP method to extract vector \"\n",
    "    lbp = local_binary_pattern(image, P=8, R=1)\n",
    "    #segmentar\n",
    "    \n",
    "    lbp = lbp[:500,:600] #check: depends on image resolution, needs to be corrected\n",
    "    M = (lbp.shape[0])//5\n",
    "    N = (lbp.shape[1])//5\n",
    "    tiles = [lbp[x:x+M,y:y+N] for x in range(0,lbp.shape[0],M) for y in range(0,lbp.shape[1],N)]\n",
    "        \n",
    "    #segment histogramas  \n",
    "    tiles_histogram = []\n",
    "    #calcular el histograma para cada segmento\n",
    "    for i in tiles: \n",
    "        hist = np.histogram(i.ravel(),density=True,bins = 59,range=(0, 59))[0]\n",
    "        tiles_histogram.append(hist)\n",
    "    full_histogram = np.array(tiles_histogram).flatten()\n",
    "    return np.array(full_histogram) \n",
    "    \n",
    "\n",
    "\n",
    "def CNN_method():\n",
    "    \"Implements CNN method to extract vector\"\n",
    "    pass\n",
    "\n",
    "def get_vector(image, extractor_type):\n",
    "    \n",
    "    if extractor_type == 'classic':\n",
    "        vector = classic_method(image)\n",
    "    else:\n",
    "        vector =CNN_method(image)\n",
    "    \n",
    "    return vector"
   ]
  },
  {
   "attachments": {},
   "cell_type": "markdown",
   "metadata": {},
   "source": [
    "### Parte 2"
   ]
  },
  {
   "cell_type": "code",
   "execution_count": null,
   "metadata": {},
   "outputs": [],
   "source": [
    "def similarity_metric(vec_1,vec_2, measure = 'euclidean'):\n",
    "    \n",
    "    if measure == 'euclidean':\n",
    "      resta = vec_1-vec_2 \n",
    "      return np.sum(np.abs(resta))\n",
    "    if measure == 'cosine_similarity':\n",
    "      return np.dot(vec_1,vec_2)"
   ]
  },
  {
   "attachments": {},
   "cell_type": "markdown",
   "metadata": {},
   "source": [
    "### Parte 3"
   ]
  },
  {
   "cell_type": "code",
   "execution_count": null,
   "metadata": {},
   "outputs": [],
   "source": [
    "def compare(image, img_database):\n",
    "    pass\n",
    "\n",
    "\n"
   ]
  },
  {
   "attachments": {},
   "cell_type": "markdown",
   "metadata": {},
   "source": [
    "### Parte 4"
   ]
  },
  {
   "cell_type": "code",
   "execution_count": null,
   "metadata": {},
   "outputs": [],
   "source": [
    "def relevance_ranking(compare_list):\n",
    "    n = len(compare_list)\n",
    "    rank = (1/n)* np.sum(compare_list)\n"
   ]
  },
  {
   "attachments": {},
   "cell_type": "markdown",
   "metadata": {},
   "source": [
    "### Parte 5"
   ]
  },
  {
   "cell_type": "code",
   "execution_count": null,
   "metadata": {},
   "outputs": [],
   "source": [
    "def normalized_rank(RETURN_FUNCION_ARRIBA,method):\n",
    "    pass"
   ]
  },
  {
   "cell_type": "code",
   "execution_count": null,
   "metadata": {},
   "outputs": [],
   "source": []
  }
 ],
 "metadata": {
  "language_info": {
   "name": "python"
  },
  "orig_nbformat": 4
 },
 "nbformat": 4,
 "nbformat_minor": 2
}
