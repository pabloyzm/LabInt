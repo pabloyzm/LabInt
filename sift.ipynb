{
 "cells": [
  {
   "cell_type": "code",
   "execution_count": 1,
   "metadata": {},
   "outputs": [],
   "source": [
    "import pandas as pd\n",
    "import numpy as np\n",
    "from matplotlib import pyplot as plt\n",
    "from sklearn.cluster import KMeans\n",
    "from sklearn.decomposition import PCA\n",
    "import seaborn as sns\n",
    "from sklearn.cluster import KMeans,MiniBatchKMeans\n",
    "from tqdm.notebook import tqdm\n",
    "\n",
    "for_kmeans =pd.read_csv('data/GPR1200/images_descriptors_kmeans.csv')\n",
    "for_quatinzation = pd.read_csv('data/GPR1200/images_descriptors_quant.csv')\n"
   ]
  },
  {
   "cell_type": "code",
   "execution_count": 2,
   "metadata": {},
   "outputs": [
    {
     "data": {
      "text/plain": [
       "0        64.0\n",
       "1        10.0\n",
       "2         0.0\n",
       "3         0.0\n",
       "4         0.0\n",
       "         ... \n",
       "13435     0.0\n",
       "13436     0.0\n",
       "13437     0.0\n",
       "13438     0.0\n",
       "13439     0.0\n",
       "Name: 0, Length: 13440, dtype: float64"
      ]
     },
     "execution_count": 2,
     "metadata": {},
     "output_type": "execute_result"
    }
   ],
   "source": [
    "#preprocess\n",
    "for_kmeans = for_kmeans.fillna(0)\n",
    "for_quatinzation = for_quatinzation.fillna(0)"
   ]
  },
  {
   "cell_type": "code",
   "execution_count": 31,
   "metadata": {},
   "outputs": [],
   "source": [
    "def initialize_kmeans(kmeans_df,quatization_df, elbow = True, plot = False):\n",
    "  \"\"\"to calibrate de numer of clusters, use elbow method\"\"\"\n",
    "  kmeans_df = np.reshape(kmeans_df,(len(kmeans_df)*for_kmeans.iloc[0].shape[0]//128,128))\n",
    "  quatization_df = np.reshape(quatization_df,(len(quatization_df)*for_quatinzation.iloc[0].shape[0]//128,128))\n",
    "  if elbow:\n",
    "    SSE = []\n",
    "    numClusters = list(range(1,1000))\n",
    "\n",
    "    for k in tqdm(numClusters):\n",
    "        k_means = MiniBatchKMeans(n_clusters=k, n_init=10, random_state=1)\n",
    "        k_means.fit(kmeans_df)\n",
    "        SSE.append(k_means.inertia_)\n",
    "\n",
    "    plt.plot(numClusters, SSE, marker=\"o\")\n",
    "    plt.title('Método del codo')\n",
    "    plt.xlabel('Número de Clusters')\n",
    "    plt.ylabel('SSE')\n",
    "    plt.show()\n",
    "\n",
    "  n_clusters = int(input('enter number of kmeans to compute:'))\n",
    "  assert type(n_clusters) == int\n",
    "  #actual kmeans\n",
    "  kmeans = MiniBatchKMeans(n_clusters=n_clusters, n_init=10, max_iter=15, random_state=1)\n",
    "  kmeans.fit(kmeans_df) #`fit_predict` entrena el modelo y devuelve las predicciones\n",
    "  if plot:\n",
    "    y_pred = kmeans.labels_ #kmeans.predict(rates)\n",
    "    y_pred \n",
    "    \n",
    "    pca = PCA(n_components=2).fit(kmeans_df)\n",
    "    rates_pca = pca.transform(kmeans_df)  \n",
    "    plt.figure(figsize=(10, 10))\n",
    "    sns.scatterplot(x=rates_pca[:, 0], y=rates_pca[:, 1], hue=y_pred, palette='Set1',markers='x')\n",
    "    plt.title(f\"Visualización PCA (n = 2) para {n_clusters} clusters por Kmeans\")\n",
    "    plt.show()\n",
    "\n",
    "  visual_word_assignments = kmeans.predict(quatization_df)\n",
    "  #print(type(visual_word_assignments))\n",
    "  #print(visual_word_assignments.shape)\n",
    "  #histogram = np.zeros(n_clusters, dtype=np.int32)\n",
    "  \n",
    "  # Count the occurrences of each visual word in the descriptors\n",
    "  #for assignment in visual_word_assignments:\n",
    "  #    histogram[assignment] += 1\n",
    "\n",
    "  #print('Histogram:', histogram)\n",
    "  #return histogram"
   ]
  },
  {
   "cell_type": "code",
   "execution_count": null,
   "metadata": {},
   "outputs": [],
   "source": [
    "def generate_histogram():\n",
    "    pass"
   ]
  },
  {
   "cell_type": "code",
   "execution_count": 32,
   "metadata": {},
   "outputs": [
    {
     "data": {
      "application/vnd.jupyter.widget-view+json": {
       "model_id": "30bbcf02ca9a4ad7b155b76fd2d1fa2b",
       "version_major": 2,
       "version_minor": 0
      },
      "text/plain": [
       "  0%|          | 0/999 [00:00<?, ?it/s]"
      ]
     },
     "metadata": {},
     "output_type": "display_data"
    }
   ],
   "source": [
    "histogram =  initialize_kmeans(for_kmeans,for_quatinzation, elbow = True, plot = True)\n",
    "#kmeans_cluster_centers = kmeans.cluster_centers_"
   ]
  },
  {
   "cell_type": "code",
   "execution_count": 18,
   "metadata": {},
   "outputs": [
    {
     "name": "stdout",
     "output_type": "stream",
     "text": [
      "None\n"
     ]
    }
   ],
   "source": [
    "print(histogram)\n",
    "#for i in histogram:\n",
    "    #print(i)"
   ]
  },
  {
   "attachments": {},
   "cell_type": "markdown",
   "metadata": {},
   "source": [
    "el histograma se supone que es el vector caracteristico \n"
   ]
  }
 ],
 "metadata": {
  "kernelspec": {
   "display_name": "Python 3",
   "language": "python",
   "name": "python3"
  },
  "language_info": {
   "codemirror_mode": {
    "name": "ipython",
    "version": 3
   },
   "file_extension": ".py",
   "mimetype": "text/x-python",
   "name": "python",
   "nbconvert_exporter": "python",
   "pygments_lexer": "ipython3",
   "version": "3.10.6"
  },
  "orig_nbformat": 4
 },
 "nbformat": 4,
 "nbformat_minor": 2
}
