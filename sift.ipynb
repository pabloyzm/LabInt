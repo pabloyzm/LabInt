{
 "cells": [
  {
   "cell_type": "code",
   "execution_count": 2,
   "metadata": {},
   "outputs": [
    {
     "name": "stdout",
     "output_type": "stream",
     "text": [
      "Descriptors: [[ 4.  0.  0. ...  0.  3.  6.]\n",
      " [ 2.  0.  0. ...  9.  3.  3.]\n",
      " [64.  3.  0. ...  2.  8.  6.]\n",
      " ...\n",
      " [69.  1.  0. ...  4. 18.  1.]\n",
      " [79.  1.  0. ...  5.  1.  0.]\n",
      " [ 1.  0.  0. ...  2.  1.  7.]]\n"
     ]
    }
   ],
   "source": [
    "\n"
   ]
  }
 ],
 "metadata": {
  "kernelspec": {
   "display_name": "Python 3",
   "language": "python",
   "name": "python3"
  },
  "language_info": {
   "codemirror_mode": {
    "name": "ipython",
    "version": 3
   },
   "file_extension": ".py",
   "mimetype": "text/x-python",
   "name": "python",
   "nbconvert_exporter": "python",
   "pygments_lexer": "ipython3",
   "version": "3.10.5"
  },
  "orig_nbformat": 4
 },
 "nbformat": 4,
 "nbformat_minor": 2
}
